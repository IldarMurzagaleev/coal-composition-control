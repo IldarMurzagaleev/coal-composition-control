{
 "cells": [
  {
   "cell_type": "code",
   "execution_count": 1,
   "metadata": {
    "collapsed": true
   },
   "outputs": [],
   "source": [
    "import glob\n",
    "import pandas as pd\n",
    "import numpy as np\n",
    "import cv2\n",
    "import json\n",
    "from skimage.draw import polygon\n",
    "import os\n",
    "import shutil\n",
    "# Put all dataset images + csv file to default path and run all cell\n",
    "\n",
    "DEFAULT_PATH = \"E:/few_data/dd/\"\n",
    "PATH_TO_CSV_DATA = DEFAULT_PATH + \"*.csv\"\n",
    "PATH_TO_IMAGES_DATA = DEFAULT_PATH + \"*.jpg\"\n",
    "\n",
    "csvs = glob.glob(PATH_TO_CSV_DATA)\n",
    "orig_img = cv2.imread(DEFAULT_PATH + \"20210712_141048_857A_ACCC8EAF31F3_0.jpg\")\n",
    "\n",
    "all_df = []\n",
    "for csv in csvs:\n",
    "    cdf = pd.read_csv(csv)\n",
    "    cdf['filename'] = cdf['filename']\n",
    "    all_df.append(cdf)\n",
    "df = pd.concat(all_df)\n",
    "df = df.reset_index()\n"
   ]
  },
  {
   "cell_type": "code",
   "execution_count": 2,
   "outputs": [],
   "source": [
    "df['region_shape_attributes'] = df['region_shape_attributes'].apply(json.loads)"
   ],
   "metadata": {
    "collapsed": false,
    "pycharm": {
     "name": "#%%\n"
    }
   }
  },
  {
   "cell_type": "code",
   "execution_count": null,
   "outputs": [],
   "source": [
    "# Remove unlabeled data\n",
    "df = df[(df['region_count'] > 0)]\n",
    "df"
   ],
   "metadata": {
    "collapsed": false,
    "pycharm": {
     "name": "#%%\n",
     "is_executing": true
    }
   }
  },
  {
   "cell_type": "markdown",
   "source": [
    "### Semantic segmentation"
   ],
   "metadata": {
    "collapsed": false,
    "pycharm": {
     "name": "#%% md\n"
    }
   }
  },
  {
   "cell_type": "code",
   "execution_count": 4,
   "outputs": [
    {
     "data": {
      "text/plain": "filename\n20210712_141048_857A_ACCC8EAF31F3_0.jpg      [{'name': 'polygon', 'all_points_x': [330, 326...\n20210712_141048_857A_ACCC8EAF31F3_120.jpg    [{'name': 'polygon', 'all_points_x': [312, 297...\n20210712_141048_857A_ACCC8EAF31F3_150.jpg    [{'name': 'polygon', 'all_points_x': [831, 831...\n20210712_141048_857A_ACCC8EAF31F3_180.jpg    [{'name': 'polygon', 'all_points_x': [999, 987...\n20210712_141048_857A_ACCC8EAF31F3_210.jpg    [{'name': 'polygon', 'all_points_x': [447, 514...\n20210712_141048_857A_ACCC8EAF31F3_240.jpg    [{'name': 'polygon', 'all_points_x': [319, 313...\n20210712_141048_857A_ACCC8EAF31F3_270.jpg    [{'name': 'polygon', 'all_points_x': [248, 241...\n20210712_141048_857A_ACCC8EAF31F3_30.jpg     [{'name': 'polygon', 'all_points_x': [335, 321...\n20210712_141048_857A_ACCC8EAF31F3_300.jpg    [{'name': 'polygon', 'all_points_x': [622, 616...\n20210712_141048_857A_ACCC8EAF31F3_330.jpg    [{'name': 'polygon', 'all_points_x': [443, 426...\n20210712_141048_857A_ACCC8EAF31F3_360.jpg    [{'name': 'polygon', 'all_points_x': [562, 567...\n20210712_141048_857A_ACCC8EAF31F3_390.jpg    [{'name': 'polygon', 'all_points_x': [617, 643...\n20210712_141048_857A_ACCC8EAF31F3_420.jpg    [{'name': 'polygon', 'all_points_x': [816, 801...\n20210712_141048_857A_ACCC8EAF31F3_450.jpg    [{'name': 'polygon', 'all_points_x': [740, 721...\n20210712_141048_857A_ACCC8EAF31F3_480.jpg    [{'name': 'polygon', 'all_points_x': [528, 518...\n20210712_141048_857A_ACCC8EAF31F3_510.jpg    [{'name': 'polygon', 'all_points_x': [575, 580...\n20210712_141048_857A_ACCC8EAF31F3_540.jpg    [{'name': 'polygon', 'all_points_x': [494, 475...\n20210712_141048_857A_ACCC8EAF31F3_570.jpg    [{'name': 'polygon', 'all_points_x': [1153, 11...\n20210712_141048_857A_ACCC8EAF31F3_60.jpg     [{'name': 'polygon', 'all_points_x': [702, 708...\n20210712_141048_857A_ACCC8EAF31F3_90.jpg     [{'name': 'polygon', 'all_points_x': [855, 857...\nName: region_shape_attributes, dtype: object"
     },
     "execution_count": 4,
     "metadata": {},
     "output_type": "execute_result"
    }
   ],
   "source": [
    "areas = df.groupby(['filename'])['region_shape_attributes'].apply(list)\n",
    "names = df.groupby(['filename'])['filename'].apply(list)\n",
    "indexes = df.groupby(['filename'])['index'].apply(list)\n",
    "res = [item[0] for item in names]\n",
    "areas"
   ],
   "metadata": {
    "collapsed": false,
    "pycharm": {
     "name": "#%%\n"
    }
   }
  },
  {
   "cell_type": "code",
   "execution_count": 5,
   "outputs": [],
   "source": [
    "def cut_original_images():\n",
    "    if not os.path.exists(DEFAULT_PATH + 'img_cut/'):\n",
    "        os.makedirs(DEFAULT_PATH + 'img_cut/')\n",
    "    for img_idx in range(0, len(areas)):\n",
    "        image_name = res[img_idx]\n",
    "        cut_img = cv2.imread(DEFAULT_PATH + image_name)[:, 40:] # cut to 1280 % 32 == 0\n",
    "\n",
    "        cv2.imwrite(DEFAULT_PATH + 'img_cut/' + image_name, cut_img)\n",
    "\n",
    "cut_original_images()"
   ],
   "metadata": {
    "collapsed": false,
    "pycharm": {
     "name": "#%%\n"
    }
   }
  },
  {
   "cell_type": "code",
   "execution_count": 6,
   "outputs": [],
   "source": [
    "def save_mask(is_cut=True):\n",
    "    numbers_of_classes = 2\n",
    "\n",
    "    fit_type_center = 'none' # ['rectangle', 'circle', 'none']\n",
    "    thickness_center = 2\n",
    "    color_center = (255, 0, 0)\n",
    "    radius_center = 2\n",
    "\n",
    "    color_mask = (0, 0, 255)\n",
    "    color_polygon = (0, 255, 0)\n",
    "    thickness_polygon = 2\n",
    "\n",
    "    if is_cut:\n",
    "        global_path = DEFAULT_PATH + 'mask_cut_' + str(numbers_of_classes) +\"_class/\"\n",
    "        if not os.path.exists(global_path):\n",
    "            os.makedirs(global_path)\n",
    "    else:\n",
    "        global_path = DEFAULT_PATH + 'mask_' + str(numbers_of_classes) +\"_class/\"\n",
    "        if not os.path.exists(global_path):\n",
    "            os.makedirs(global_path)\n",
    "\n",
    "    for img_idx in range(0, len(areas)): # specific image\n",
    "        image_name = res[img_idx]\n",
    "        index_list = indexes[img_idx]\n",
    "        if numbers_of_classes > 1:\n",
    "            mask = np.zeros((orig_img.shape[0], orig_img.shape[1], 3), dtype=np.uint8)\n",
    "        else:\n",
    "            mask = np.zeros((orig_img.shape[0], orig_img.shape[1], 1), dtype=np.uint8)\n",
    "        i = 1\n",
    "        for index in index_list:\n",
    "            poly = df.iloc[index]['region_shape_attributes']\n",
    "            rr, cc = polygon(poly['all_points_y'], poly['all_points_x'])\n",
    "            rr[rr > mask.shape[0] - 1] = mask.shape[0] - 1 # sometimes out of bounds\n",
    "            cc[cc > mask.shape[1] - 1] = mask.shape[1] - 1\n",
    "\n",
    "            if numbers_of_classes > 1:\n",
    "                points = []\n",
    "                for i in range(0, len(poly['all_points_y'])):\n",
    "                    points.append([poly['all_points_x'][i], poly['all_points_y'][i]])\n",
    "                if fit_type_center == 'none':\n",
    "                    pass\n",
    "                elif fit_type_center == 'circle' or len(points) < 5:\n",
    "                    circle = cv2.minEnclosingCircle(np.asarray(points))\n",
    "                    cv2.circle(mask,\n",
    "                               (int(circle[0][0]), int(circle[0][1])),\n",
    "                               radius=radius_center,\n",
    "                               color=color_center,\n",
    "                               thickness=thickness_center)\n",
    "                elif fit_type_center == 'rectangle':\n",
    "                    rect = cv2.minAreaRect(np.asarray(points))\n",
    "                    cv2.circle(mask,\n",
    "                               (int(rect[0][0]),int(rect[0][1])),\n",
    "                               radius=radius_center,\n",
    "                               color=color_center,\n",
    "                               thickness=thickness_center)\n",
    "                mask[rr, cc] = color_mask\n",
    "                mask = cv2.polylines(mask, np.asarray([points]), True, color_polygon, thickness_polygon)\n",
    "            else:\n",
    "                mask[rr, cc] = 255\n",
    "\n",
    "            i += 1\n",
    "            if is_cut:\n",
    "                cv2.imwrite(global_path + image_name[:-3] + \"png\", mask[:, 40:]) # convert to png, because of jpeg mixing color\n",
    "            else:\n",
    "                cv2.imwrite(global_path + image_name[:-3] + \"png\", mask)\n",
    "    return global_path"
   ],
   "metadata": {
    "collapsed": false,
    "pycharm": {
     "name": "#%%\n"
    }
   }
  },
  {
   "cell_type": "code",
   "execution_count": 7,
   "outputs": [],
   "source": [
    "def split_to_folders(res_path, split_rate=0.2, split_images=False):\n",
    "    val_names = res[:int(split_rate * len(res))]\n",
    "    test_names = res[:int(split_rate * len(res))]\n",
    "    train_names = res[int(split_rate * len(res)):]\n",
    "    if split_images:\n",
    "        if not os.path.exists(DEFAULT_PATH + 'train/'):\n",
    "            os.makedirs(DEFAULT_PATH + 'train/')\n",
    "        if not os.path.exists(DEFAULT_PATH + 'test/'):\n",
    "            os.makedirs(DEFAULT_PATH + 'test/')\n",
    "        if not os.path.exists(DEFAULT_PATH + 'val/'):\n",
    "            os.makedirs(DEFAULT_PATH + 'val/')\n",
    "        # assume that we're copying cut images\n",
    "        for name in val_names:\n",
    "            shutil.copyfile(DEFAULT_PATH + 'img_cut/' + name, DEFAULT_PATH + 'val/' + name)\n",
    "        for name in test_names:\n",
    "            shutil.copyfile(DEFAULT_PATH + 'img_cut/' + name, DEFAULT_PATH + 'test/' + name)\n",
    "        for name in train_names:\n",
    "            shutil.copyfile(DEFAULT_PATH + 'img_cut/' + name, DEFAULT_PATH + 'train/' + name)\n",
    "\n",
    "    else:\n",
    "        if not os.path.exists(DEFAULT_PATH + 'trainannot/'):\n",
    "            os.makedirs(DEFAULT_PATH + 'trainannot/')\n",
    "        if not os.path.exists(DEFAULT_PATH + 'testannot/'):\n",
    "            os.makedirs(DEFAULT_PATH + 'testannot/')\n",
    "        if not os.path.exists(DEFAULT_PATH + 'valannot/'):\n",
    "            os.makedirs(DEFAULT_PATH + 'valannot/')\n",
    "        for name in val_names:\n",
    "            shutil.copyfile(res_path + name[:-3] + 'png', DEFAULT_PATH + 'valannot/' + name[:-3] + 'png')\n",
    "        for name in test_names:\n",
    "            shutil.copyfile(res_path + name[:-3] + 'png', DEFAULT_PATH + 'testannot/' + name[:-3] + 'png')\n",
    "        for name in train_names:\n",
    "            shutil.copyfile(res_path + name[:-3] + 'png', DEFAULT_PATH + 'trainannot/' + name[:-3] + 'png')"
   ],
   "metadata": {
    "collapsed": false,
    "pycharm": {
     "name": "#%%\n"
    }
   }
  },
  {
   "cell_type": "code",
   "execution_count": 8,
   "outputs": [],
   "source": [
    "res_path = save_mask(is_cut=True)\n",
    "split_to_folders(res_path, split_images=True)"
   ],
   "metadata": {
    "collapsed": false,
    "pycharm": {
     "name": "#%%\n"
    }
   }
  }
 ],
 "metadata": {
  "kernelspec": {
   "display_name": "Python 3",
   "language": "python",
   "name": "python3"
  },
  "language_info": {
   "codemirror_mode": {
    "name": "ipython",
    "version": 2
   },
   "file_extension": ".py",
   "mimetype": "text/x-python",
   "name": "python",
   "nbconvert_exporter": "python",
   "pygments_lexer": "ipython2",
   "version": "2.7.6"
  }
 },
 "nbformat": 4,
 "nbformat_minor": 0
}