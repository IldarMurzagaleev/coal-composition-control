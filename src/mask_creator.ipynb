{
 "cells": [
  {
   "cell_type": "code",
   "execution_count": 54,
   "metadata": {
    "collapsed": true
   },
   "outputs": [],
   "source": [
    "import glob\n",
    "import pandas as pd\n",
    "import numpy as np\n",
    "import cv2\n",
    "import json\n",
    "from skimage.draw import polygon\n",
    "from matplotlib import pyplot as plt\n",
    "DEFAULT_PATH = \"E:/few_data/\"\n",
    "PATH_TO_CSV_DATA = DEFAULT_PATH + \"few_data/*.csv\"\n",
    "PATH_TO_IMAGES_DATA = DEFAULT_PATH + \"few_data/*.jpg\"\n",
    "\n",
    "csvs = glob.glob(PATH_TO_CSV_DATA)\n",
    "orig_img = cv2.imread(DEFAULT_PATH + \"few_data/20210712_141048_857A_ACCC8EAF31F3_0.jpg\")\n",
    "\n",
    "all_df = []\n",
    "for csv in csvs:\n",
    "    cdf = pd.read_csv(csv)\n",
    "    cdf['filename'] = cdf['filename']\n",
    "    all_df.append(cdf)\n",
    "df = pd.concat(all_df)\n",
    "df = df.reset_index()\n"
   ]
  },
  {
   "cell_type": "code",
   "execution_count": 55,
   "outputs": [
    {
     "data": {
      "text/plain": "      index                                    filename  file_size  \\\n0         0     20210712_141048_857A_ACCC8EAF31F3_0.jpg     497805   \n1         1     20210712_141048_857A_ACCC8EAF31F3_0.jpg     497805   \n2         2     20210712_141048_857A_ACCC8EAF31F3_0.jpg     497805   \n3         3     20210712_141048_857A_ACCC8EAF31F3_0.jpg     497805   \n4         4     20210712_141048_857A_ACCC8EAF31F3_0.jpg     497805   \n...     ...                                         ...        ...   \n1693   1693  20210712_144334_EB33_ACCC8EAF31F3_1620.jpg     354526   \n1694   1694  20210712_144334_EB33_ACCC8EAF31F3_1650.jpg     362200   \n1695   1695  20210712_144334_EB33_ACCC8EAF31F3_1680.jpg     345024   \n1696   1696  20210712_144334_EB33_ACCC8EAF31F3_1710.jpg     348453   \n1697   1697  20210712_144334_EB33_ACCC8EAF31F3_1740.jpg     369440   \n\n     file_attributes  region_count  region_id  \\\n0                 {}            25          0   \n1                 {}            25          1   \n2                 {}            25          2   \n3                 {}            25          3   \n4                 {}            25          4   \n...              ...           ...        ...   \n1693              {}             0          0   \n1694              {}             0          0   \n1695              {}             0          0   \n1696              {}             0          0   \n1697              {}             0          0   \n\n                                region_shape_attributes region_attributes  \n0     {\"name\":\"polygon\",\"all_points_x\":[330,326,342,...                {}  \n1     {\"name\":\"polygon\",\"all_points_x\":[566,545,559,...                {}  \n2     {\"name\":\"polygon\",\"all_points_x\":[703,706,725,...                {}  \n3     {\"name\":\"polygon\",\"all_points_x\":[684,686,698,...                {}  \n4     {\"name\":\"polygon\",\"all_points_x\":[750,740,739,...                {}  \n...                                                 ...               ...  \n1693                                                 {}                {}  \n1694                                                 {}                {}  \n1695                                                 {}                {}  \n1696                                                 {}                {}  \n1697                                                 {}                {}  \n\n[1698 rows x 8 columns]",
      "text/html": "<div>\n<style scoped>\n    .dataframe tbody tr th:only-of-type {\n        vertical-align: middle;\n    }\n\n    .dataframe tbody tr th {\n        vertical-align: top;\n    }\n\n    .dataframe thead th {\n        text-align: right;\n    }\n</style>\n<table border=\"1\" class=\"dataframe\">\n  <thead>\n    <tr style=\"text-align: right;\">\n      <th></th>\n      <th>index</th>\n      <th>filename</th>\n      <th>file_size</th>\n      <th>file_attributes</th>\n      <th>region_count</th>\n      <th>region_id</th>\n      <th>region_shape_attributes</th>\n      <th>region_attributes</th>\n    </tr>\n  </thead>\n  <tbody>\n    <tr>\n      <th>0</th>\n      <td>0</td>\n      <td>20210712_141048_857A_ACCC8EAF31F3_0.jpg</td>\n      <td>497805</td>\n      <td>{}</td>\n      <td>25</td>\n      <td>0</td>\n      <td>{\"name\":\"polygon\",\"all_points_x\":[330,326,342,...</td>\n      <td>{}</td>\n    </tr>\n    <tr>\n      <th>1</th>\n      <td>1</td>\n      <td>20210712_141048_857A_ACCC8EAF31F3_0.jpg</td>\n      <td>497805</td>\n      <td>{}</td>\n      <td>25</td>\n      <td>1</td>\n      <td>{\"name\":\"polygon\",\"all_points_x\":[566,545,559,...</td>\n      <td>{}</td>\n    </tr>\n    <tr>\n      <th>2</th>\n      <td>2</td>\n      <td>20210712_141048_857A_ACCC8EAF31F3_0.jpg</td>\n      <td>497805</td>\n      <td>{}</td>\n      <td>25</td>\n      <td>2</td>\n      <td>{\"name\":\"polygon\",\"all_points_x\":[703,706,725,...</td>\n      <td>{}</td>\n    </tr>\n    <tr>\n      <th>3</th>\n      <td>3</td>\n      <td>20210712_141048_857A_ACCC8EAF31F3_0.jpg</td>\n      <td>497805</td>\n      <td>{}</td>\n      <td>25</td>\n      <td>3</td>\n      <td>{\"name\":\"polygon\",\"all_points_x\":[684,686,698,...</td>\n      <td>{}</td>\n    </tr>\n    <tr>\n      <th>4</th>\n      <td>4</td>\n      <td>20210712_141048_857A_ACCC8EAF31F3_0.jpg</td>\n      <td>497805</td>\n      <td>{}</td>\n      <td>25</td>\n      <td>4</td>\n      <td>{\"name\":\"polygon\",\"all_points_x\":[750,740,739,...</td>\n      <td>{}</td>\n    </tr>\n    <tr>\n      <th>...</th>\n      <td>...</td>\n      <td>...</td>\n      <td>...</td>\n      <td>...</td>\n      <td>...</td>\n      <td>...</td>\n      <td>...</td>\n      <td>...</td>\n    </tr>\n    <tr>\n      <th>1693</th>\n      <td>1693</td>\n      <td>20210712_144334_EB33_ACCC8EAF31F3_1620.jpg</td>\n      <td>354526</td>\n      <td>{}</td>\n      <td>0</td>\n      <td>0</td>\n      <td>{}</td>\n      <td>{}</td>\n    </tr>\n    <tr>\n      <th>1694</th>\n      <td>1694</td>\n      <td>20210712_144334_EB33_ACCC8EAF31F3_1650.jpg</td>\n      <td>362200</td>\n      <td>{}</td>\n      <td>0</td>\n      <td>0</td>\n      <td>{}</td>\n      <td>{}</td>\n    </tr>\n    <tr>\n      <th>1695</th>\n      <td>1695</td>\n      <td>20210712_144334_EB33_ACCC8EAF31F3_1680.jpg</td>\n      <td>345024</td>\n      <td>{}</td>\n      <td>0</td>\n      <td>0</td>\n      <td>{}</td>\n      <td>{}</td>\n    </tr>\n    <tr>\n      <th>1696</th>\n      <td>1696</td>\n      <td>20210712_144334_EB33_ACCC8EAF31F3_1710.jpg</td>\n      <td>348453</td>\n      <td>{}</td>\n      <td>0</td>\n      <td>0</td>\n      <td>{}</td>\n      <td>{}</td>\n    </tr>\n    <tr>\n      <th>1697</th>\n      <td>1697</td>\n      <td>20210712_144334_EB33_ACCC8EAF31F3_1740.jpg</td>\n      <td>369440</td>\n      <td>{}</td>\n      <td>0</td>\n      <td>0</td>\n      <td>{}</td>\n      <td>{}</td>\n    </tr>\n  </tbody>\n</table>\n<p>1698 rows × 8 columns</p>\n</div>"
     },
     "execution_count": 55,
     "metadata": {},
     "output_type": "execute_result"
    }
   ],
   "source": [
    "df"
   ],
   "metadata": {
    "collapsed": false,
    "pycharm": {
     "name": "#%%\n"
    }
   }
  },
  {
   "cell_type": "code",
   "execution_count": 56,
   "outputs": [],
   "source": [
    "df['region_shape_attributes'] = df['region_shape_attributes'].apply(json.loads)"
   ],
   "metadata": {
    "collapsed": false,
    "pycharm": {
     "name": "#%%\n"
    }
   }
  },
  {
   "cell_type": "code",
   "execution_count": 57,
   "outputs": [
    {
     "data": {
      "text/plain": "     index                                   filename  file_size  \\\n0        0    20210712_141048_857A_ACCC8EAF31F3_0.jpg     497805   \n1        1    20210712_141048_857A_ACCC8EAF31F3_0.jpg     497805   \n2        2    20210712_141048_857A_ACCC8EAF31F3_0.jpg     497805   \n3        3    20210712_141048_857A_ACCC8EAF31F3_0.jpg     497805   \n4        4    20210712_141048_857A_ACCC8EAF31F3_0.jpg     497805   \n..     ...                                        ...        ...   \n470    470  20210712_141048_857A_ACCC8EAF31F3_570.jpg     341393   \n471    471  20210712_141048_857A_ACCC8EAF31F3_570.jpg     341393   \n472    472  20210712_141048_857A_ACCC8EAF31F3_570.jpg     341393   \n473    473  20210712_141048_857A_ACCC8EAF31F3_570.jpg     341393   \n474    474  20210712_141048_857A_ACCC8EAF31F3_570.jpg     341393   \n\n    file_attributes  region_count  region_id  \\\n0                {}            25          0   \n1                {}            25          1   \n2                {}            25          2   \n3                {}            25          3   \n4                {}            25          4   \n..              ...           ...        ...   \n470              {}            22         17   \n471              {}            22         18   \n472              {}            22         19   \n473              {}            22         20   \n474              {}            22         21   \n\n                               region_shape_attributes region_attributes  \n0    {'name': 'polygon', 'all_points_x': [330, 326,...                {}  \n1    {'name': 'polygon', 'all_points_x': [566, 545,...                {}  \n2    {'name': 'polygon', 'all_points_x': [703, 706,...                {}  \n3    {'name': 'polygon', 'all_points_x': [684, 686,...                {}  \n4    {'name': 'polygon', 'all_points_x': [750, 740,...                {}  \n..                                                 ...               ...  \n470  {'name': 'polygon', 'all_points_x': [1101, 111...                {}  \n471  {'name': 'polygon', 'all_points_x': [1141, 114...                {}  \n472  {'name': 'polygon', 'all_points_x': [1139, 113...                {}  \n473  {'name': 'polygon', 'all_points_x': [871, 897,...                {}  \n474  {'name': 'polygon', 'all_points_x': [1025, 999...                {}  \n\n[475 rows x 8 columns]",
      "text/html": "<div>\n<style scoped>\n    .dataframe tbody tr th:only-of-type {\n        vertical-align: middle;\n    }\n\n    .dataframe tbody tr th {\n        vertical-align: top;\n    }\n\n    .dataframe thead th {\n        text-align: right;\n    }\n</style>\n<table border=\"1\" class=\"dataframe\">\n  <thead>\n    <tr style=\"text-align: right;\">\n      <th></th>\n      <th>index</th>\n      <th>filename</th>\n      <th>file_size</th>\n      <th>file_attributes</th>\n      <th>region_count</th>\n      <th>region_id</th>\n      <th>region_shape_attributes</th>\n      <th>region_attributes</th>\n    </tr>\n  </thead>\n  <tbody>\n    <tr>\n      <th>0</th>\n      <td>0</td>\n      <td>20210712_141048_857A_ACCC8EAF31F3_0.jpg</td>\n      <td>497805</td>\n      <td>{}</td>\n      <td>25</td>\n      <td>0</td>\n      <td>{'name': 'polygon', 'all_points_x': [330, 326,...</td>\n      <td>{}</td>\n    </tr>\n    <tr>\n      <th>1</th>\n      <td>1</td>\n      <td>20210712_141048_857A_ACCC8EAF31F3_0.jpg</td>\n      <td>497805</td>\n      <td>{}</td>\n      <td>25</td>\n      <td>1</td>\n      <td>{'name': 'polygon', 'all_points_x': [566, 545,...</td>\n      <td>{}</td>\n    </tr>\n    <tr>\n      <th>2</th>\n      <td>2</td>\n      <td>20210712_141048_857A_ACCC8EAF31F3_0.jpg</td>\n      <td>497805</td>\n      <td>{}</td>\n      <td>25</td>\n      <td>2</td>\n      <td>{'name': 'polygon', 'all_points_x': [703, 706,...</td>\n      <td>{}</td>\n    </tr>\n    <tr>\n      <th>3</th>\n      <td>3</td>\n      <td>20210712_141048_857A_ACCC8EAF31F3_0.jpg</td>\n      <td>497805</td>\n      <td>{}</td>\n      <td>25</td>\n      <td>3</td>\n      <td>{'name': 'polygon', 'all_points_x': [684, 686,...</td>\n      <td>{}</td>\n    </tr>\n    <tr>\n      <th>4</th>\n      <td>4</td>\n      <td>20210712_141048_857A_ACCC8EAF31F3_0.jpg</td>\n      <td>497805</td>\n      <td>{}</td>\n      <td>25</td>\n      <td>4</td>\n      <td>{'name': 'polygon', 'all_points_x': [750, 740,...</td>\n      <td>{}</td>\n    </tr>\n    <tr>\n      <th>...</th>\n      <td>...</td>\n      <td>...</td>\n      <td>...</td>\n      <td>...</td>\n      <td>...</td>\n      <td>...</td>\n      <td>...</td>\n      <td>...</td>\n    </tr>\n    <tr>\n      <th>470</th>\n      <td>470</td>\n      <td>20210712_141048_857A_ACCC8EAF31F3_570.jpg</td>\n      <td>341393</td>\n      <td>{}</td>\n      <td>22</td>\n      <td>17</td>\n      <td>{'name': 'polygon', 'all_points_x': [1101, 111...</td>\n      <td>{}</td>\n    </tr>\n    <tr>\n      <th>471</th>\n      <td>471</td>\n      <td>20210712_141048_857A_ACCC8EAF31F3_570.jpg</td>\n      <td>341393</td>\n      <td>{}</td>\n      <td>22</td>\n      <td>18</td>\n      <td>{'name': 'polygon', 'all_points_x': [1141, 114...</td>\n      <td>{}</td>\n    </tr>\n    <tr>\n      <th>472</th>\n      <td>472</td>\n      <td>20210712_141048_857A_ACCC8EAF31F3_570.jpg</td>\n      <td>341393</td>\n      <td>{}</td>\n      <td>22</td>\n      <td>19</td>\n      <td>{'name': 'polygon', 'all_points_x': [1139, 113...</td>\n      <td>{}</td>\n    </tr>\n    <tr>\n      <th>473</th>\n      <td>473</td>\n      <td>20210712_141048_857A_ACCC8EAF31F3_570.jpg</td>\n      <td>341393</td>\n      <td>{}</td>\n      <td>22</td>\n      <td>20</td>\n      <td>{'name': 'polygon', 'all_points_x': [871, 897,...</td>\n      <td>{}</td>\n    </tr>\n    <tr>\n      <th>474</th>\n      <td>474</td>\n      <td>20210712_141048_857A_ACCC8EAF31F3_570.jpg</td>\n      <td>341393</td>\n      <td>{}</td>\n      <td>22</td>\n      <td>21</td>\n      <td>{'name': 'polygon', 'all_points_x': [1025, 999...</td>\n      <td>{}</td>\n    </tr>\n  </tbody>\n</table>\n<p>475 rows × 8 columns</p>\n</div>"
     },
     "execution_count": 57,
     "metadata": {},
     "output_type": "execute_result"
    }
   ],
   "source": [
    "# Remove unlabeled data\n",
    "df = df[(df['region_count']>0)]\n",
    "df"
   ],
   "metadata": {
    "collapsed": false,
    "pycharm": {
     "name": "#%%\n"
    }
   }
  },
  {
   "cell_type": "markdown",
   "source": [
    "### Semantic segmentation"
   ],
   "metadata": {
    "collapsed": false,
    "pycharm": {
     "name": "#%% md\n"
    }
   }
  },
  {
   "cell_type": "code",
   "execution_count": 58,
   "outputs": [
    {
     "data": {
      "text/plain": "filename\n20210712_141048_857A_ACCC8EAF31F3_0.jpg      [{'name': 'polygon', 'all_points_x': [330, 326...\n20210712_141048_857A_ACCC8EAF31F3_120.jpg    [{'name': 'polygon', 'all_points_x': [312, 297...\n20210712_141048_857A_ACCC8EAF31F3_150.jpg    [{'name': 'polygon', 'all_points_x': [831, 831...\n20210712_141048_857A_ACCC8EAF31F3_180.jpg    [{'name': 'polygon', 'all_points_x': [999, 987...\n20210712_141048_857A_ACCC8EAF31F3_210.jpg    [{'name': 'polygon', 'all_points_x': [447, 514...\n20210712_141048_857A_ACCC8EAF31F3_240.jpg    [{'name': 'polygon', 'all_points_x': [319, 313...\n20210712_141048_857A_ACCC8EAF31F3_270.jpg    [{'name': 'polygon', 'all_points_x': [248, 241...\n20210712_141048_857A_ACCC8EAF31F3_30.jpg     [{'name': 'polygon', 'all_points_x': [335, 321...\n20210712_141048_857A_ACCC8EAF31F3_300.jpg    [{'name': 'polygon', 'all_points_x': [622, 616...\n20210712_141048_857A_ACCC8EAF31F3_330.jpg    [{'name': 'polygon', 'all_points_x': [443, 426...\n20210712_141048_857A_ACCC8EAF31F3_360.jpg    [{'name': 'polygon', 'all_points_x': [562, 567...\n20210712_141048_857A_ACCC8EAF31F3_390.jpg    [{'name': 'polygon', 'all_points_x': [617, 643...\n20210712_141048_857A_ACCC8EAF31F3_420.jpg    [{'name': 'polygon', 'all_points_x': [816, 801...\n20210712_141048_857A_ACCC8EAF31F3_450.jpg    [{'name': 'polygon', 'all_points_x': [740, 721...\n20210712_141048_857A_ACCC8EAF31F3_480.jpg    [{'name': 'polygon', 'all_points_x': [528, 518...\n20210712_141048_857A_ACCC8EAF31F3_510.jpg    [{'name': 'polygon', 'all_points_x': [575, 580...\n20210712_141048_857A_ACCC8EAF31F3_540.jpg    [{'name': 'polygon', 'all_points_x': [494, 475...\n20210712_141048_857A_ACCC8EAF31F3_570.jpg    [{'name': 'polygon', 'all_points_x': [1153, 11...\n20210712_141048_857A_ACCC8EAF31F3_60.jpg     [{'name': 'polygon', 'all_points_x': [702, 708...\n20210712_141048_857A_ACCC8EAF31F3_90.jpg     [{'name': 'polygon', 'all_points_x': [855, 857...\nName: region_shape_attributes, dtype: object"
     },
     "execution_count": 58,
     "metadata": {},
     "output_type": "execute_result"
    }
   ],
   "source": [
    "areas = df.groupby(['filename'])['region_shape_attributes'].apply(list)\n",
    "names = df.groupby(['filename'])['filename'].apply(list)\n",
    "indexes = df.groupby(['filename'])['index'].apply(list)\n",
    "res = [item[0] for item in names]\n",
    "areas"
   ],
   "metadata": {
    "collapsed": false,
    "pycharm": {
     "name": "#%%\n"
    }
   }
  },
  {
   "cell_type": "code",
   "execution_count": 59,
   "outputs": [],
   "source": [
    "def save_mask(is_instance=False, is_find_min_left=False):\n",
    "    color = 255\n",
    "    norm = 1\n",
    "    lefts = []\n",
    "    for img_idx in range(0, len(areas)): # specific image\n",
    "        image_name = res[img_idx]\n",
    "        index_list = indexes[img_idx]\n",
    "        mask = np.zeros((orig_img.shape[0], orig_img.shape[1]), dtype=np.uint8)\n",
    "        if is_instance:\n",
    "            norm = int(255 / len(index_list))\n",
    "        i = 1\n",
    "        for index in index_list:\n",
    "            poly = df.iloc[index]['region_shape_attributes']\n",
    "            rr, cc = polygon(poly['all_points_y'], poly['all_points_x'])\n",
    "            rr[rr > mask.shape[0] - 1] = mask.shape[0] - 1 # sometimes out of bounds\n",
    "            cc[cc > mask.shape[1] - 1] = mask.shape[1] - 1\n",
    "            if is_instance:\n",
    "                color = i * norm\n",
    "            mask[rr, cc] = color\n",
    "            i += 1\n",
    "            #plt.imshow(mask)\n",
    "        if is_instance:\n",
    "            cv2.imwrite(DEFAULT_PATH + 'few_data/mask_instance/'+ image_name, mask)\n",
    "        else:\n",
    "            cv2.imwrite(DEFAULT_PATH + 'few_data/mask/'+ image_name, mask)\n",
    "        if is_find_min_left:\n",
    "            positions = np.nonzero(mask)\n",
    "            left = positions[1].min()\n",
    "            lefts.append(left)\n",
    "    return lefts"
   ],
   "metadata": {
    "collapsed": false,
    "pycharm": {
     "name": "#%%\n"
    }
   }
  },
  {
   "cell_type": "code",
   "execution_count": 60,
   "outputs": [],
   "source": [
    "cutter = save_mask(is_instance=False, is_find_min_left=True)"
   ],
   "metadata": {
    "collapsed": false,
    "pycharm": {
     "name": "#%%\n"
    }
   }
  },
  {
   "cell_type": "code",
   "execution_count": 81,
   "outputs": [],
   "source": [
    "def cut_images(cut_list, is_instance=False):\n",
    "    cut_list = sorted(cut_list)\n",
    "    min_val = cut_list[0] - 7 if cut_list[0] > 7 else cut_list[0]\n",
    "    if is_instance:\n",
    "        mask_read_path = DEFAULT_PATH + 'few_data/mask_instance/'\n",
    "        mask_write_path = DEFAULT_PATH + 'few_data/mask_cut_instance/'\n",
    "    else:\n",
    "        mask_read_path = DEFAULT_PATH + 'few_data/mask/'\n",
    "        mask_write_path = DEFAULT_PATH + 'few_data/mask_cut/'\n",
    "\n",
    "    for img_idx in range(0, len(areas)):\n",
    "        image_name = res[img_idx]\n",
    "        cut_img = cv2.imread(DEFAULT_PATH +'few_data/' + image_name)[:, min_val:]\n",
    "        cut_mask = cv2.imread(mask_read_path + image_name)[:, min_val:]\n",
    "        cv2.imwrite(DEFAULT_PATH + 'few_data/img_cut/' + image_name, cut_img)\n",
    "        cv2.imwrite(mask_write_path + image_name, cut_mask)"
   ],
   "metadata": {
    "collapsed": false,
    "pycharm": {
     "name": "#%%\n"
    }
   }
  },
  {
   "cell_type": "code",
   "execution_count": 82,
   "outputs": [
    {
     "name": "stdout",
     "output_type": "stream",
     "text": [
      "E:/few_data/few_data/20210712_141048_857A_ACCC8EAF31F3_0.jpg\n",
      "E:/few_data/few_data/20210712_141048_857A_ACCC8EAF31F3_120.jpg\n",
      "E:/few_data/few_data/20210712_141048_857A_ACCC8EAF31F3_150.jpg\n",
      "E:/few_data/few_data/20210712_141048_857A_ACCC8EAF31F3_180.jpg\n",
      "E:/few_data/few_data/20210712_141048_857A_ACCC8EAF31F3_210.jpg\n",
      "E:/few_data/few_data/20210712_141048_857A_ACCC8EAF31F3_240.jpg\n",
      "E:/few_data/few_data/20210712_141048_857A_ACCC8EAF31F3_270.jpg\n",
      "E:/few_data/few_data/20210712_141048_857A_ACCC8EAF31F3_30.jpg\n",
      "E:/few_data/few_data/20210712_141048_857A_ACCC8EAF31F3_300.jpg\n",
      "E:/few_data/few_data/20210712_141048_857A_ACCC8EAF31F3_330.jpg\n",
      "E:/few_data/few_data/20210712_141048_857A_ACCC8EAF31F3_360.jpg\n",
      "E:/few_data/few_data/20210712_141048_857A_ACCC8EAF31F3_390.jpg\n",
      "E:/few_data/few_data/20210712_141048_857A_ACCC8EAF31F3_420.jpg\n",
      "E:/few_data/few_data/20210712_141048_857A_ACCC8EAF31F3_450.jpg\n",
      "E:/few_data/few_data/20210712_141048_857A_ACCC8EAF31F3_480.jpg\n",
      "E:/few_data/few_data/20210712_141048_857A_ACCC8EAF31F3_510.jpg\n",
      "E:/few_data/few_data/20210712_141048_857A_ACCC8EAF31F3_540.jpg\n",
      "E:/few_data/few_data/20210712_141048_857A_ACCC8EAF31F3_570.jpg\n",
      "E:/few_data/few_data/20210712_141048_857A_ACCC8EAF31F3_60.jpg\n",
      "E:/few_data/few_data/20210712_141048_857A_ACCC8EAF31F3_90.jpg\n"
     ]
    }
   ],
   "source": [
    "cut_images(cutter)"
   ],
   "metadata": {
    "collapsed": false,
    "pycharm": {
     "name": "#%%\n"
    }
   }
  },
  {
   "cell_type": "markdown",
   "source": [
    "### Instance segmentation"
   ],
   "metadata": {
    "collapsed": false,
    "pycharm": {
     "name": "#%% md\n"
    }
   }
  },
  {
   "cell_type": "code",
   "execution_count": null,
   "outputs": [],
   "source": [
    "save_mask(is_instance=True)"
   ],
   "metadata": {
    "collapsed": false,
    "pycharm": {
     "name": "#%%\n"
    }
   }
  },
  {
   "cell_type": "code",
   "execution_count": null,
   "outputs": [],
   "source": [],
   "metadata": {
    "collapsed": false,
    "pycharm": {
     "name": "#%%\n"
    }
   }
  }
 ],
 "metadata": {
  "kernelspec": {
   "display_name": "Python 3",
   "language": "python",
   "name": "python3"
  },
  "language_info": {
   "codemirror_mode": {
    "name": "ipython",
    "version": 2
   },
   "file_extension": ".py",
   "mimetype": "text/x-python",
   "name": "python",
   "nbconvert_exporter": "python",
   "pygments_lexer": "ipython2",
   "version": "2.7.6"
  }
 },
 "nbformat": 4,
 "nbformat_minor": 0
}