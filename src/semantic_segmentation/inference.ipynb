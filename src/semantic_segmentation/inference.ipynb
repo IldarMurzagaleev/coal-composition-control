{
 "cells": [
  {
   "cell_type": "markdown",
   "metadata": {
    "collapsed": true,
    "pycharm": {
     "name": "#%% md\n"
    }
   },
   "source": [
    "## For only 1 class"
   ]
  },
  {
   "cell_type": "code",
   "execution_count": 17,
   "outputs": [],
   "source": [
    "import cv2\n",
    "import albumentations as albu\n",
    "import torch\n",
    "import segmentation_models_pytorch as smp\n",
    "# doesn't matter for inference\n",
    "ENCODER = 'resnet101'\n",
    "ENCODER_WEIGHTS = 'imagenet'\n",
    "CLASSES = ['coal']\n",
    "ACTIVATION = 'sigmoid'\n",
    "\n",
    "if torch.cuda.is_available():\n",
    "    DEVICE = 'cuda'\n",
    "else:\n",
    "    DEVICE = 'cpu'\n",
    "\n",
    "model = smp.FPN(\n",
    "    encoder_name=ENCODER,\n",
    "    encoder_weights=ENCODER_WEIGHTS,\n",
    "    classes=len(CLASSES),\n",
    "    activation=ACTIVATION,\n",
    ")\n",
    "preprocessing_fn = smp.encoders.get_preprocessing_fn(ENCODER, ENCODER_WEIGHTS)\n"
   ],
   "metadata": {
    "collapsed": false,
    "pycharm": {
     "name": "#%%\n"
    }
   }
  },
  {
   "cell_type": "code",
   "execution_count": 19,
   "outputs": [
    {
     "data": {
      "text/plain": "True"
     },
     "execution_count": 19,
     "metadata": {},
     "output_type": "execute_result"
    }
   ],
   "source": [
    "path = \"E:\\\\few_data\\\\few_data\\\\test\\\\\"\n",
    "image_path = 'vlcsnap-2022-01-26-cut.jpg'\n",
    "\n",
    "best_model = torch.load(r\"E:\\few_data\\few_data\\ex\\best_model3.pth\")\n",
    "best_model.eval()\n",
    "\n",
    "image = cv2.imread(path+image_path)\n",
    "image = cv2.cvtColor(image, cv2.COLOR_BGR2RGB)\n",
    "orig = image.copy().astype('float32')\n",
    "\n",
    "trf = albu.Compose([albu.Lambda(image=preprocessing_fn)])\n",
    "image = trf(image=image)['image']\n",
    "image = cv2.resize(image,(512,512))\n",
    "image = image.transpose(2, 0, 1).astype('float32')\n",
    "\n",
    "x_tensor = torch.from_numpy(image).to('cuda').unsqueeze(0)\n",
    "pr_mask = best_model.predict(x_tensor)\n",
    "\n",
    "pr_mask1 = ((pr_mask.squeeze(0).cpu().numpy())*255).transpose(1, 2, 0)\n",
    "pr_mask1 = cv2.resize(pr_mask1,(1120,512))\n",
    "cv2.imwrite(path+\"mask_\"+image_path, pr_mask1)\n",
    "\n",
    "test = pr_mask.squeeze(0).cpu().numpy()\n",
    "test = test.transpose(1, 2,0)\n",
    "test = cv2.cvtColor(test, cv2.COLOR_GRAY2RGB)\n",
    "test = cv2.resize(test,(1120,512))\n",
    "test = 1.0 - test\n",
    "\n",
    "foreground = cv2.multiply(orig, test)\n",
    "\n",
    "cv2.imwrite(r\"E:\\few_data\\few_data\\test\\predicted_res1.jpg\",foreground)"
   ],
   "metadata": {
    "collapsed": false,
    "pycharm": {
     "name": "#%%\n"
    }
   }
  },
  {
   "cell_type": "code",
   "execution_count": null,
   "outputs": [],
   "source": [],
   "metadata": {
    "collapsed": false,
    "pycharm": {
     "name": "#%%\n"
    }
   }
  }
 ],
 "metadata": {
  "kernelspec": {
   "display_name": "Python 3",
   "language": "python",
   "name": "python3"
  },
  "language_info": {
   "codemirror_mode": {
    "name": "ipython",
    "version": 2
   },
   "file_extension": ".py",
   "mimetype": "text/x-python",
   "name": "python",
   "nbconvert_exporter": "python",
   "pygments_lexer": "ipython2",
   "version": "2.7.6"
  }
 },
 "nbformat": 4,
 "nbformat_minor": 0
}